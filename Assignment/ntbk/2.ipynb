{
 "cells": [
  {
   "cell_type": "code",
   "execution_count": 1,
   "id": "674caa1e",
   "metadata": {},
   "outputs": [],
   "source": [
    "import io\n",
    "import matplotlib.pyplot as plt\n",
    "import numpy as np"
   ]
  },
  {
   "cell_type": "code",
   "execution_count": 3,
   "id": "5296797b",
   "metadata": {},
   "outputs": [],
   "source": [
    "with io.open(r\"C:\\Users\\Rajath\\Downloads\\altitude.txt\", mode=\"r\", encoding=\"utf-8\") as f:\n",
    "    data = f.read().split(' ')"
   ]
  },
  {
   "cell_type": "code",
   "execution_count": 4,
   "id": "c62ec436",
   "metadata": {},
   "outputs": [],
   "source": [
    "n = len(data)"
   ]
  },
  {
   "cell_type": "code",
   "execution_count": 5,
   "id": "992e3468",
   "metadata": {},
   "outputs": [],
   "source": [
    "x = np.arange(0, n, 1)"
   ]
  },
  {
   "cell_type": "code",
   "execution_count": null,
   "id": "33973427",
   "metadata": {},
   "outputs": [],
   "source": [
    "plt.plot(x, data)\n",
    "plt.xlim([0,n+1])\n",
    "plt.xlabel('x axis', fontdict = {'fontsize':15})\n",
    "plt.ylabel('y axis', fontdict = {'fontsize':15})\n",
    "plt.legend([\"y vs. x\"])\n",
    "plt.show()"
   ]
  }
 ],
 "metadata": {
  "kernelspec": {
   "display_name": "Python 3 (ipykernel)",
   "language": "python",
   "name": "python3"
  },
  "language_info": {
   "codemirror_mode": {
    "name": "ipython",
    "version": 3
   },
   "file_extension": ".py",
   "mimetype": "text/x-python",
   "name": "python",
   "nbconvert_exporter": "python",
   "pygments_lexer": "ipython3",
   "version": "3.10.2"
  }
 },
 "nbformat": 4,
 "nbformat_minor": 5
}
